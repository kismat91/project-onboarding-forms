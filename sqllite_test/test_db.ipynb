{
 "cells": [
  {
   "cell_type": "code",
   "execution_count": 4,
   "metadata": {},
   "outputs": [],
   "source": [
    "import sqlite3\n",
    "import pandas as pd\n",
    "\n",
    "class DatabaseManager:\n",
    "    def __init__(self, db_path='real_estate_onboarding.db'):\n",
    "        \"\"\"Initialize the database connection.\"\"\"\n",
    "        self.conn = sqlite3.connect(db_path)\n",
    "        self.cursor = self.conn.cursor()\n",
    "        self.create_table()\n",
    "\n",
    "\n",
    "    def perform_query(self, query):\n",
    "        \"\"\"Create the onboarding table if it does not exist.\"\"\"\n",
    "        self.cursor.execute(query)\n",
    "        self.conn.commit()\n",
    "\n",
    "    def create_table(self):\n",
    "        \"\"\"Create the onboarding table if it does not exist.\"\"\"\n",
    "        self.perform_query(\"\"\"\n",
    "            CREATE TABLE IF NOT EXISTS onboarding (\n",
    "                name TEXT,\n",
    "                email TEXT,\n",
    "                contact_number TEXT,\n",
    "                address TEXT,\n",
    "                ssn TEXT,\n",
    "                file_path TEXT\n",
    "            );\n",
    "        \"\"\")\n",
    "        self.conn.commit()\n",
    "\n",
    "    def add_record(self, name, email, contact_number, address, ssn, file_path):\n",
    "        \"\"\"Add a new record to the onboarding table.\"\"\"\n",
    "        sql = '''\n",
    "        INSERT INTO onboarding (name, email, contact_number, address, ssn, file_path)\n",
    "        VALUES (?, ?, ?, ?, ?, ?);\n",
    "        '''\n",
    "        self.cursor.execute(sql, (name, email, contact_number, address, ssn, file_path))\n",
    "        self.conn.commit()\n",
    "\n",
    "    def fetch_all_records(self):\n",
    "        \"\"\"Fetch all records from the onboarding table.\"\"\"\n",
    "        query = \"SELECT * FROM onboarding;\"\n",
    "        df = pd.read_sql_query(query, self.conn)\n",
    "        return df\n",
    "        self.perform_query(\"SELECT * FROM onboarding;\")\n",
    "        return self.cursor.fetchall()\n",
    "\n",
    "    def close(self):\n",
    "        \"\"\"Close the cursor and the database connection.\"\"\"\n",
    "        self.cursor.close()\n",
    "        self.conn.close()"
   ]
  },
  {
   "cell_type": "code",
   "execution_count": 3,
   "metadata": {},
   "outputs": [
    {
     "name": "stdout",
     "output_type": "stream",
     "text": [
      "        name                 email contact_number          address  \\\n",
      "0   John Doe  john.doe@example.com     1234567890  1234 Elm Street   \n",
      "1   John Doe  john.doe@example.com     1234567890  1234 Elm Street   \n",
      "2   John Doe  john.doe@example.com     1234567890  1234 Elm Street   \n",
      "3   John Doe  john.doe@example.com     1234567890  1234 Elm Street   \n",
      "4   John Doe  john.doe@example.com     1234567890  1234 Elm Street   \n",
      "5   John Doe  john.doe@example.com     1234567890  1234 Elm Street   \n",
      "6   John Doe  john.doe@example.com     1234567890  1234 Elm Street   \n",
      "7   John Doe  john.doe@example.com     1234567890  1234 Elm Street   \n",
      "8   John Doe  john.doe@example.com     1234567890  1234 Elm Street   \n",
      "9   John Doe  john.doe@example.com     1234567890  1234 Elm Street   \n",
      "10      adsc                  asdc           sadc             asdc   \n",
      "11  John Doe  john.doe@example.com     1234567890  1234 Elm Street   \n",
      "\n",
      "            ssn                                          file_path  \n",
      "0   123-45-6789                              /path/to/document.pdf  \n",
      "1   123-45-6789                              /path/to/document.pdf  \n",
      "2   123-45-6789                              /path/to/document.pdf  \n",
      "3   123-45-6789                              /path/to/document.pdf  \n",
      "4   123-45-6789                              /path/to/document.pdf  \n",
      "5   123-45-6789                              /path/to/document.pdf  \n",
      "6   123-45-6789                              /path/to/document.pdf  \n",
      "7   123-45-6789                              /path/to/document.pdf  \n",
      "8   123-45-6789                              /path/to/document.pdf  \n",
      "9   123-45-6789                              /path/to/document.pdf  \n",
      "10         ascd  output_files/39db9b6d-b48e-40ca-aa6c-3dabab71f294  \n",
      "11  123-45-6789                              /path/to/document.pdf  \n",
      "name\n",
      "email\n",
      "contact_number\n",
      "address\n",
      "ssn\n",
      "file_path\n"
     ]
    }
   ],
   "source": [
    "# Example usage\n",
    "db_manager = DatabaseManager()\n",
    "db_manager.add_record('John Doe', 'john.doe@example.com', '1234567890', '1234 Elm Street', '123-45-6789', '/path/to/document.pdf')\n",
    "rows = db_manager.fetch_all_records()\n",
    "print(rows)\n",
    "for row in rows:\n",
    "    print(row)\n",
    "\n",
    "db_manager.close()\n"
   ]
  },
  {
   "cell_type": "code",
   "execution_count": 5,
   "metadata": {},
   "outputs": [
    {
     "name": "stdout",
     "output_type": "stream",
     "text": [
      "Empty DataFrame\n",
      "Columns: [name, email, contact_number, address, ssn, file_path]\n",
      "Index: []\n"
     ]
    }
   ],
   "source": [
    "db_manager = DatabaseManager('real_estate_onboarding.db')\n",
    "print(db_manager.fetch_all_records())\n",
    "db_manager.close()\n"
   ]
  },
  {
   "cell_type": "code",
   "execution_count": null,
   "metadata": {},
   "outputs": [],
   "source": []
  }
 ],
 "metadata": {
  "kernelspec": {
   "display_name": "Python 3",
   "language": "python",
   "name": "python3"
  },
  "language_info": {
   "codemirror_mode": {
    "name": "ipython",
    "version": 3
   },
   "file_extension": ".py",
   "mimetype": "text/x-python",
   "name": "python",
   "nbconvert_exporter": "python",
   "pygments_lexer": "ipython3",
   "version": "3.11.5"
  }
 },
 "nbformat": 4,
 "nbformat_minor": 2
}
